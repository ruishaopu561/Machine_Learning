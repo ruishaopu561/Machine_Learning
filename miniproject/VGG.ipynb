{
 "cells": [
  {
   "cell_type": "code",
   "execution_count": 1,
   "metadata": {},
   "outputs": [
    {
     "ename": "ModuleNotFoundError",
     "evalue": "No module named 'tensorboardX'",
     "output_type": "error",
     "traceback": [
      "\u001b[0;31m---------------------------------------------------------------------------\u001b[0m",
      "\u001b[0;31mModuleNotFoundError\u001b[0m                       Traceback (most recent call last)",
      "\u001b[0;32m<ipython-input-1-0dc40545cb44>\u001b[0m in \u001b[0;36m<module>\u001b[0;34m\u001b[0m\n\u001b[1;32m     14\u001b[0m \u001b[0;32mimport\u001b[0m \u001b[0mtorchvision\u001b[0m\u001b[0;34m.\u001b[0m\u001b[0mmodels\u001b[0m \u001b[0;32mas\u001b[0m \u001b[0mmodels\u001b[0m\u001b[0;34m\u001b[0m\u001b[0;34m\u001b[0m\u001b[0m\n\u001b[1;32m     15\u001b[0m \u001b[0;34m\u001b[0m\u001b[0m\n\u001b[0;32m---> 16\u001b[0;31m \u001b[0;32mfrom\u001b[0m \u001b[0mtensorboardX\u001b[0m \u001b[0;32mimport\u001b[0m \u001b[0mSummaryWriter\u001b[0m\u001b[0;34m\u001b[0m\u001b[0;34m\u001b[0m\u001b[0m\n\u001b[0m\u001b[1;32m     17\u001b[0m \u001b[0mdtype\u001b[0m \u001b[0;34m=\u001b[0m \u001b[0mtorch\u001b[0m\u001b[0;34m.\u001b[0m\u001b[0mfloat32\u001b[0m\u001b[0;34m\u001b[0m\u001b[0;34m\u001b[0m\u001b[0m\n\u001b[1;32m     18\u001b[0m \u001b[0;34m\u001b[0m\u001b[0m\n",
      "\u001b[0;31mModuleNotFoundError\u001b[0m: No module named 'tensorboardX'"
     ]
    }
   ],
   "source": [
    "import numpy as np\n",
    "import torch.nn as nn\n",
    "import torch\n",
    "\n",
    "import torch.optim as optim\n",
    "from torch.utils.data import DataLoader\n",
    "from torch.utils.data import sampler\n",
    "import torchvision.datasets as dset\n",
    "import torchvision.transforms as T\n",
    "\n",
    "import torch.nn.functional as F\n",
    "from torch.utils.data import sampler\n",
    "import matplotlib.pyplot as plt\n",
    "import torchvision.models as models\n",
    "\n",
    "from tensorboardX import SummaryWriter\n",
    "dtype = torch.float32\n",
    "\n",
    "if torch.cuda.is_available():\n",
    "    device = torch.device('cuda')\n",
    "else:\n",
    "    device = torch.device('cpu')\n",
    "    \n",
    "print('using device:', device)"
   ]
  },
  {
   "cell_type": "code",
   "execution_count": null,
   "metadata": {},
   "outputs": [],
   "source": [
    "transform = T.Compose([\n",
    "    T.Resize(224),\n",
    "#     T.RandomHorizontalFlip(),\n",
    "    T.ToTensor(),\n",
    "    T.Normalize((0.5, 0.5, 0.5), (0.5, 0.5, 0.5))\n",
    "])\n",
    "\n",
    "def getData(batch_size):\n",
    "    cifar10_train = dset.CIFAR10('../datasets/', train=True, download=True, transform=transform)\n",
    "    loader_train = DataLoader(cifar10_train, batch_size=batch_size, num_workers=4)\n",
    "\n",
    "    cifar10_val = dset.CIFAR10('../datasets/', train=False, download=True, transform=transform)\n",
    "    loader_val = DataLoader(cifar10_val, batch_size=batch_size, num_workers=4)\n",
    "    \n",
    "    return (loader_train, loader_val)\n",
    "\n",
    "def flatten(x):\n",
    "    N = x.shape[0]\n",
    "    return x.view(N, -1)\n",
    "\n",
    "class Flatten(nn.Module):\n",
    "    def forward(self, x):\n",
    "        return flatten(x)\n",
    "\n",
    "def getModel():\n",
    "    return models.vgg16()\n",
    "#     return models.resnet18()\n",
    "def setOptim(model, learning_rate, momentum):\n",
    "    return optim.SGD(model.parameters(), lr=learning_rate, momentum = momentum)"
   ]
  },
  {
   "cell_type": "code",
   "execution_count": null,
   "metadata": {},
   "outputs": [],
   "source": [
    "def check_accuracy(loader, model):\n",
    "    if loader.dataset.train:\n",
    "        print('Checking accuracy on validation set')\n",
    "    else:\n",
    "        print('Checking accuracy on test set')\n",
    "\n",
    "    num_samples = 0\n",
    "    num_correct = 0\n",
    "    model.eval()\n",
    "    for x, y in loader:\n",
    "        x = x.to(device=device)\n",
    "        y = y.to(device=device)\n",
    "        scores = model(x)\n",
    "        _, preds = torch.max(scores, dim=1)\n",
    "        num_correct += (preds == y).sum()\n",
    "        num_samples += x.shape[0]\n",
    "    acc = float(num_correct) / num_samples\n",
    "    print('Got %d / %d correct (%.2f%%)\\n' % (num_correct, num_samples, 100 * acc))\n",
    "    return acc"
   ]
  },
  {
   "cell_type": "code",
   "execution_count": null,
   "metadata": {},
   "outputs": [],
   "source": [
    "def train(lr, bs, mo, epochs=100):\n",
    "    print(\"lr:\",lr, \" bs:\", bs, \" mo:\", mo)\n",
    "\n",
    "    loader_train, loader_val = getData(bs)\n",
    "\n",
    "    model = getModel()\n",
    "    optimizer = setOptim(model, learning_rate=lr, momentum=mo)\n",
    "\n",
    "    model = model.to(device=device)\n",
    "\n",
    "    writer = SummaryWriter(comment=\"1_epoch\")\n",
    "    train_len = len(loader_train)\n",
    "\n",
    "    images, labels = next(iter(loader_train))\n",
    "    \n",
    "    for e in range(epochs):\n",
    "        epoch_loss = 0\n",
    "        epoch_count = 0\n",
    "        for t, (x, y) in enumerate(loader_train):\n",
    "            x = x.to(device=device)\n",
    "            y = y.to(device=device)\n",
    "            optimizer.zero_grad() # 梯度归零\n",
    "            model.train()\n",
    "            scores = model(x)\n",
    "            loss = F.cross_entropy(scores, y)  # 计算loss\n",
    "            loss.backward() #　反向传播\n",
    "            optimizer.step() # 更新参数\n",
    "\n",
    "            epoch_count += 1\n",
    "            epoch_loss += loss.item()\n",
    "            print('Iteration %d, loss = %.4f' %(t, loss.item()))\n",
    "        writer.add_scalar('train', epoch_loss/epoch_count, e)\n",
    "\n",
    "        print('epoch %d, loss = %.4f' %(e, epoch_loss/epoch_count))\n",
    "\n",
    "        acc = check_accuracy(loader_val, model)\n",
    "\n",
    "        if e % 20 == 0:\n",
    "            lr = lr/3.0\n",
    "            optimizer = setOptim(model, learning_rate=lr, momentum=mo)"
   ]
  },
  {
   "cell_type": "code",
   "execution_count": null,
   "metadata": {},
   "outputs": [],
   "source": [
    "learning_rates = [0.01, 0.003]\n",
    "batch_sizes = [64, 128, 256]\n",
    "# momentum = [0.9, 0.95, 0.99]\n",
    "\n",
    "train(0.001, 64, 0.9)\n",
    "\n",
    "for lr in learning_rates:\n",
    "    for bs in batch_sizes:\n",
    "#         for mo in momentum:\n",
    "        train(lr, bs, mo)"
   ]
  }
 ],
 "metadata": {
  "kernelspec": {
   "display_name": "Python 3",
   "language": "python",
   "name": "python3"
  },
  "language_info": {
   "codemirror_mode": {
    "name": "ipython",
    "version": 3
   },
   "file_extension": ".py",
   "mimetype": "text/x-python",
   "name": "python",
   "nbconvert_exporter": "python",
   "pygments_lexer": "ipython3",
   "version": "3.6.8"
  }
 },
 "nbformat": 4,
 "nbformat_minor": 2
}
